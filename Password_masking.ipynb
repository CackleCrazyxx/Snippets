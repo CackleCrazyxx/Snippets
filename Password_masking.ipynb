{
  "nbformat": 4,
  "nbformat_minor": 0,
  "metadata": {
    "colab": {
      "name": "Password sanitise.ipynb",
      "provenance": [],
      "include_colab_link": true
    },
    "kernelspec": {
      "name": "python3",
      "display_name": "Python 3"
    },
    "language_info": {
      "name": "python"
    }
  },
  "cells": [
    {
      "cell_type": "markdown",
      "metadata": {
        "id": "view-in-github",
        "colab_type": "text"
      },
      "source": [
        "<a href=\"https://colab.research.google.com/github/CackleCrazyxx/Snippets/blob/main/Password_masking.ipynb\" target=\"_parent\"><img src=\"https://colab.research.google.com/assets/colab-badge.svg\" alt=\"Open In Colab\"/></a>"
      ]
    },
    {
      "cell_type": "code",
      "execution_count": 3,
      "metadata": {
        "id": "OJvFDyPBb2I9",
        "outputId": "1001a962-4d79-4769-bfe7-cfb38c1027ed",
        "colab": {
          "base_uri": "https://localhost:8080/"
        }
      },
      "outputs": [
        {
          "output_type": "stream",
          "name": "stdout",
          "text": [
            "Enter Password··········\n",
            "halo halo hello hai \n"
          ]
        }
      ],
      "source": [
        "import getpass\n",
        "x = getpass.getpass(\"Enter Password\")\n",
        "print(x)"
      ]
    },
    {
      "cell_type": "code",
      "source": [
        ""
      ],
      "metadata": {
        "id": "bzoUwFYe3bBk"
      },
      "execution_count": null,
      "outputs": []
    }
  ]
}